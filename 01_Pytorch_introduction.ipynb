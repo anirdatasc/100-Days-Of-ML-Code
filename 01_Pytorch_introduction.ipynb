{
  "nbformat": 4,
  "nbformat_minor": 0,
  "metadata": {
    "colab": {
      "provenance": [],
      "authorship_tag": "ABX9TyPHIrmdSr6juVA5e3jABo7l",
      "include_colab_link": true
    },
    "kernelspec": {
      "name": "python3",
      "display_name": "Python 3"
    },
    "language_info": {
      "name": "python"
    }
  },
  "cells": [
    {
      "cell_type": "markdown",
      "metadata": {
        "id": "view-in-github",
        "colab_type": "text"
      },
      "source": [
        "<a href=\"https://colab.research.google.com/github/anirdatasc/100-Days-Of-ML-Code/blob/master/01_Pytorch_introduction.ipynb\" target=\"_parent\"><img src=\"https://colab.research.google.com/assets/colab-badge.svg\" alt=\"Open In Colab\"/></a>"
      ]
    },
    {
      "cell_type": "code",
      "execution_count": 1,
      "metadata": {
        "id": "y73bcU8MJ3z4",
        "colab": {
          "base_uri": "https://localhost:8080/"
        },
        "outputId": "620ed6a5-5af4-4574-9793-35536e19ddea"
      },
      "outputs": [
        {
          "output_type": "execute_result",
          "data": {
            "text/plain": [
              "tensor(8.)"
            ]
          },
          "metadata": {},
          "execution_count": 1
        }
      ],
      "source": [
        "# prompt: create a basic pytorch program adding two numbers\n",
        "\n",
        "import torch\n",
        "\n",
        "# This line imports the torch library, which is the core of the PyTorch framework. PyTorch is a powerful tool for building and training neural networks, but in this case, we are simply using it for basic numerical computation. Think of it as bringing in a specialized calculator for math operations.\n",
        "\n",
        "# Create two tensors\n",
        "tensor1 = torch.tensor(5.0)\n",
        "tensor2 = torch.tensor(3.0)\n",
        "\n",
        "# Here, we create two tensors using the torch.tensor() function.\n",
        "# In PyTorch, a tensor is a fundamental data structure, similar to an array in NumPy. It can hold numbers and can be used for mathematical operations.\n",
        "# tensor1 is assigned the value 5.0, and tensor2 is assigned the value 3.0.\n",
        "\n",
        "# Add the tensors\n",
        "result = tensor1 + tensor2\n",
        "\n",
        "'''This line performs the addition of the two tensors:\n",
        "The + operator is used to add tensor1 and tensor2.\n",
        "The result of this addition is stored in a new variable called result. '''\n",
        "\n",
        "# Print the result\n",
        "result\n"
      ]
    }
  ]
}